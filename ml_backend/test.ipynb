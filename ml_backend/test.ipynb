{
 "cells": [
  {
   "cell_type": "code",
   "execution_count": 18,
   "metadata": {},
   "outputs": [
    {
     "data": {
      "text/plain": [
       "True"
      ]
     },
     "execution_count": 18,
     "metadata": {},
     "output_type": "execute_result"
    }
   ],
   "source": [
    "import os\n",
    "from dotenv import load_dotenv\n",
    "load_dotenv()"
   ]
  },
  {
   "cell_type": "code",
   "execution_count": 27,
   "metadata": {},
   "outputs": [],
   "source": [
    "from pinecone import Pinecone\n",
    "pc = Pinecone(api_key=os.getenv('PINECONE_KEY'))\n",
    "index = pc.Index('default')"
   ]
  },
  {
   "cell_type": "code",
   "execution_count": 28,
   "metadata": {},
   "outputs": [
    {
     "data": {
      "text/plain": [
       "{'upserted_count': 1}"
      ]
     },
     "execution_count": 28,
     "metadata": {},
     "output_type": "execute_result"
    }
   ],
   "source": [
    "import json\n",
    "from angle_emb import AnglE\n",
    "\n",
    "business_data_path = 'business_data.json'\n",
    "with open(business_data_path) as f:\n",
    "    data = json.load(f)\n",
    "\n",
    "\n",
    "angle = AnglE.from_pretrained('WhereIsAI/UAE-Large-V1', pooling_strategy='cls').cuda()\n",
    "emb_vectors = angle.encode(str(data), to_numpy=True)\n",
    "\n",
    "ids = [str(data['id'])]\n",
    "meta_data = [data]\n",
    "\n",
    "to_upsert = zip(ids, emb_vectors, meta_data)\n",
    "index.upsert(vectors=to_upsert)"
   ]
  },
  {
   "cell_type": "code",
   "execution_count": 31,
   "metadata": {},
   "outputs": [],
   "source": [
    "user_query = input('Enter your query: ')\n",
    "query_embeddings = angle.encode(str(data), to_numpy=True).tolist()"
   ]
  },
  {
   "cell_type": "code",
   "execution_count": 32,
   "metadata": {},
   "outputs": [],
   "source": [
    "result = index.query(\n",
    "    vector=query_embeddings,\n",
    "    top_k=5,\n",
    "    include_values=False,\n",
    "    include_metadata=True\n",
    ")"
   ]
  },
  {
   "cell_type": "code",
   "execution_count": 34,
   "metadata": {},
   "outputs": [
    {
     "data": {
      "text/plain": [
       "{'matches': [{'id': '3',\n",
       "              'metadata': {'USP': 'Cutting-edge Software Development',\n",
       "                           'age': '5 years',\n",
       "                           'company_name': 'PQR Tech Solutions',\n",
       "                           'employees': 250.0,\n",
       "                           'id': 3.0,\n",
       "                           'industry': 'Information Technology',\n",
       "                           'profit': '$5,000,000',\n",
       "                           'revenue': '$25,000,000',\n",
       "                           'sales': '$15,000,000'},\n",
       "              'score': 0.998860717,\n",
       "              'values': []},\n",
       "             {'id': '2',\n",
       "              'metadata': {'USP': 'Best AI solutions',\n",
       "                           'age': '2 years',\n",
       "                           'company_name': 'XYZ Corporation',\n",
       "                           'employees': 200.0,\n",
       "                           'id': 2.0,\n",
       "                           'industry': 'Product Technology',\n",
       "                           'profit': '$4,000,000',\n",
       "                           'revenue': '$20,000,000',\n",
       "                           'sales': '$10,000,000'},\n",
       "              'score': 0.809759617,\n",
       "              'values': []},\n",
       "             {'id': '1',\n",
       "              'metadata': {'USP': 'Cutting-edge AI solutions',\n",
       "                           'age': '5 years',\n",
       "                           'company_name': 'ABC Corporation',\n",
       "                           'employees': 100.0,\n",
       "                           'id': 1.0,\n",
       "                           'industry': 'Technology',\n",
       "                           'profit': '$2,000,000',\n",
       "                           'revenue': '$10,000,000',\n",
       "                           'sales': '$8,000,000'},\n",
       "              'score': 0.569637954,\n",
       "              'values': []}],\n",
       " 'namespace': '',\n",
       " 'usage': {'read_units': 6}}"
      ]
     },
     "execution_count": 34,
     "metadata": {},
     "output_type": "execute_result"
    }
   ],
   "source": [
    "result"
   ]
  },
  {
   "cell_type": "code",
   "execution_count": 37,
   "metadata": {},
   "outputs": [],
   "source": [
    "matched_info = ' '.join(' '.join(str(item['metadata'].get(key, '')) for key in ['USP', 'employees', 'industry', 'sales', 'profit', 'revenue']) for item in result['matches'])\n",
    "sources = [' '.join(str(item['metadata'].get(key, '')) for key in ['industry', 'USP']) for item in result['matches']]\n",
    "context = f\"Information: {matched_info} and the sources: {sources}\"\n",
    "sys_prompt = f\"\"\"\n",
    "Instructions:\n",
    "- Be helpful and answer questions concisely. If you don't know the answer, say 'I don't know'\n",
    "- Utilize the context provided for accurate and specific information.\n",
    "- Incorporate your preexisting knowledge to enhance the depth and relevance of your response.\n",
    "- You are answering as a finance and a business guru to people are trying to make their startup successful.\n",
    "- Help the client with giving advantages and disadvantages glorifying both of them in details and points to help them thrive.\n",
    "- Cite your sources\n",
    "Context: {context}\n",
    "\"\"\""
   ]
  },
  {
   "cell_type": "code",
   "execution_count": 38,
   "metadata": {},
   "outputs": [
    {
     "name": "stderr",
     "output_type": "stream",
     "text": [
      "INFO:httpx:HTTP Request: POST https://api.groq.com/openai/v1/chat/completions \"HTTP/1.1 200 OK\"\n"
     ]
    },
    {
     "name": "stdout",
     "output_type": "stream",
     "text": [
      "To determine if the business of ABC will be successful, it is important to consider the advantages and disadvantages of the different areas they are investing in.\n",
      "\n",
      "Advantages of Cutting-edge Software Development:\n",
      "\n",
      "* Can provide a competitive edge in the market\n",
      "* Allows for the creation of custom solutions for clients\n",
      "* Can lead to increased efficiency and productivity\n",
      "* High demand for software development services\n",
      "\n",
      "Disadvantages of Cutting-edge Software Development:\n",
      "\n",
      "* Can be expensive to research and develop new software\n",
      "* Requires a highly skilled workforce\n",
      "* Technology can become outdated quickly\n",
      "* Intense competition in the software development industry\n",
      "\n",
      "Advantages of Best AI Solutions:\n",
      "\n",
      "* Can automate repetitive tasks, freeing up employee time\n",
      "* Can provide valuable insights and predictions through data analysis\n",
      "* Can improve decision-making and strategic planning\n",
      "* High demand for AI solutions in various industries\n",
      "\n",
      "Disadvantages of Best AI Solutions:\n",
      "\n",
      "* Can be expensive to research, develop, and implement\n",
      "* Requires a highly skilled workforce\n",
      "* Can raise ethical and privacy concerns\n",
      "* Technology can be complex and difficult to understand for some users\n",
      "\n",
      "Advantages of Cutting-edge AI Solutions:\n",
      "\n",
      "* Can provide a competitive edge in the market\n",
      "* Allows for the creation of custom AI solutions for clients\n",
      "* Can lead to increased efficiency and productivity\n",
      "* High demand for AI solutions in various industries\n",
      "\n",
      "Disadvantages of Cutting-edge AI Solutions:\n",
      "\n",
      "* Can be expensive to research and develop new AI technology\n",
      "* Requires a highly skilled workforce\n",
      "* Technology can become outdated quickly\n",
      "* Intense competition in the AI industry\n",
      "\n",
      "In conclusion, the business of ABC has the potential to be successful with the investment in cutting-edge software development, best AI solutions, and cutting-edge AI solutions. However, it's important to note that these areas also come with significant disadvantages such as high costs, the need for a highly skilled workforce, and intense competition. It's crucial for ABC to have a clear strategy, a solid business plan, and a strong understanding of the market to mitigate these risks and increase the chances of success.\n",
      "\n",
      "Source:\n",
      "\n",
      "* Information Technology Cutting-edge Software Development\n",
      "* Product Technology Best AI solutions\n",
      "* Technology Cutting-edge AI solutions\n"
     ]
    }
   ],
   "source": [
    "from groq import Groq\n",
    "client = Groq()\n",
    "\n",
    "chat_completion = client.chat.completions.create(\n",
    "    messages=[\n",
    "        {\n",
    "            \"role\": \"system\",\n",
    "            \"content\": f\"{sys_prompt}\"\n",
    "        },\n",
    "        {\n",
    "            \"role\": \"user\",\n",
    "            \"content\": f\"{user_query}\",\n",
    "        }\n",
    "    ],\n",
    "    model=\"mixtral-8x7b-32768\",\n",
    "    temperature=0.5,\n",
    "    max_tokens=2048,\n",
    "    top_p=1,\n",
    "    stop=None,\n",
    "    stream=False,\n",
    ")\n",
    "print(chat_completion.choices[0].message.content)"
   ]
  },
  {
   "cell_type": "code",
   "execution_count": null,
   "metadata": {},
   "outputs": [],
   "source": []
  }
 ],
 "metadata": {
  "kernelspec": {
   "display_name": "tf",
   "language": "python",
   "name": "python3"
  },
  "language_info": {
   "codemirror_mode": {
    "name": "ipython",
    "version": 3
   },
   "file_extension": ".py",
   "mimetype": "text/x-python",
   "name": "python",
   "nbconvert_exporter": "python",
   "pygments_lexer": "ipython3",
   "version": "3.9.19"
  }
 },
 "nbformat": 4,
 "nbformat_minor": 2
}
