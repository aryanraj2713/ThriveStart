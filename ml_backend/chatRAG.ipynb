{
 "cells": [
  {
   "cell_type": "code",
   "execution_count": 115,
   "metadata": {},
   "outputs": [],
   "source": [
    "import os"
   ]
  },
  {
   "cell_type": "code",
   "execution_count": 116,
   "metadata": {},
   "outputs": [],
   "source": [
    "from pinecone import Pinecone"
   ]
  },
  {
   "cell_type": "code",
   "execution_count": 117,
   "metadata": {},
   "outputs": [
    {
     "data": {
      "text/plain": [
       "True"
      ]
     },
     "execution_count": 117,
     "metadata": {},
     "output_type": "execute_result"
    }
   ],
   "source": [
    "from dotenv import load_dotenv\n",
    "load_dotenv()"
   ]
  },
  {
   "cell_type": "code",
   "execution_count": 118,
   "metadata": {},
   "outputs": [],
   "source": [
    "import json"
   ]
  },
  {
   "cell_type": "markdown",
   "metadata": {},
   "source": [
    "## VectorDB Init"
   ]
  },
  {
   "cell_type": "code",
   "execution_count": 119,
   "metadata": {},
   "outputs": [],
   "source": [
    "PINECONE_KEY=os.getenv(\"PINECONE_KEY\")\n",
    "PINECONE_ENV=os.getenv(\"PINECONE_ENV\")\n",
    "PINECONE_INDEX_NAME=\"default\""
   ]
  },
  {
   "cell_type": "code",
   "execution_count": 120,
   "metadata": {},
   "outputs": [
    {
     "name": "stdout",
     "output_type": "stream",
     "text": [
      "{'dimension': 1024,\n",
      " 'host': 'default-09vtdyw.svc.gcp-starter.pinecone.io',\n",
      " 'metric': 'cosine',\n",
      " 'name': 'default',\n",
      " 'spec': {'pod': {'environment': 'gcp-starter',\n",
      "                  'pod_type': 'starter',\n",
      "                  'pods': 1,\n",
      "                  'replicas': 1,\n",
      "                  'shards': 1}},\n",
      " 'status': {'ready': True, 'state': 'Ready'}}\n"
     ]
    }
   ],
   "source": [
    "pc = Pinecone(api_key=PINECONE_KEY)\n",
    "index_list = pc.list_indexes()\n",
    "\n",
    "if len(index_list) == 0:\n",
    "    print(\"Creating index...\")\n",
    "    pc.create_index(PINECONE_INDEX_NAME, dimension=1536, metric='dotproduct')\n",
    "\n",
    "print(pc.describe_index(PINECONE_INDEX_NAME))\n",
    "index = pc.Index(PINECONE_INDEX_NAME)"
   ]
  },
  {
   "cell_type": "code",
   "execution_count": 121,
   "metadata": {},
   "outputs": [
    {
     "name": "stdout",
     "output_type": "stream",
     "text": [
      "{'company_name': 'XYZ Corporation', 'id': 2, 'revenue': '$20,000,000', 'industry': 'Product Technology', 'USP': 'Best AI solutions', 'sales': '$10,000,000', 'profit': '$4,000,000', 'employees': 200, 'age': '2 years'}\n"
     ]
    }
   ],
   "source": [
    "business_data_path = 'business_data.json'\n",
    "with open(business_data_path) as f:\n",
    "    data = json.load(f)\n",
    "\n",
    "print(data)"
   ]
  },
  {
   "cell_type": "markdown",
   "metadata": {},
   "source": [
    "## Embeddings"
   ]
  },
  {
   "cell_type": "code",
   "execution_count": 122,
   "metadata": {},
   "outputs": [
    {
     "name": "stdout",
     "output_type": "stream",
     "text": [
      "[[ 0.25822684 -0.10153604  0.47885266 ...  0.0107529  -0.3698256\n",
      "   0.34391046]]\n"
     ]
    }
   ],
   "source": [
    "from angle_emb import AnglE\n",
    "\n",
    "angle = AnglE.from_pretrained('WhereIsAI/UAE-Large-V1', pooling_strategy='cls').cuda()\n",
    "emb_vectors = angle.encode(str(data), to_numpy=True)\n",
    "print(emb_vectors)\n"
   ]
  },
  {
   "cell_type": "code",
   "execution_count": 123,
   "metadata": {},
   "outputs": [
    {
     "data": {
      "text/plain": [
       "{'upserted_count': 1}"
      ]
     },
     "execution_count": 123,
     "metadata": {},
     "output_type": "execute_result"
    }
   ],
   "source": [
    "ids = [str(data['id'])]\n",
    "meta_data = [data]\n",
    "\n",
    "to_upsert = zip(ids, emb_vectors, meta_data)\n",
    "index.upsert(vectors=to_upsert)"
   ]
  },
  {
   "cell_type": "markdown",
   "metadata": {},
   "source": [
    "## Retrieval QA"
   ]
  },
  {
   "cell_type": "code",
   "execution_count": 124,
   "metadata": {},
   "outputs": [],
   "source": [
    "from groq import Groq\n",
    "client = Groq(\n",
    "    api_key=os.getenv(\"GROQ_API_KEY\"),\n",
    ")"
   ]
  },
  {
   "cell_type": "code",
   "execution_count": 125,
   "metadata": {},
   "outputs": [],
   "source": [
    "# import numpy as np\n",
    "# user_question = 'What is Product Technology'\n",
    "# question_vector = angle.encode(str(user_question), to_numpy=True)\n",
    "# print(type(question_vector))\n",
    "# print(question_vector)"
   ]
  },
  {
   "cell_type": "code",
   "execution_count": 126,
   "metadata": {},
   "outputs": [],
   "source": [
    "# similar_vector_ids = index.query(vector=[question_vector.tolist()], top_k=5)['matches']\n",
    "# print(similar_vector_ids)"
   ]
  }
 ],
 "metadata": {
  "kernelspec": {
   "display_name": "tf",
   "language": "python",
   "name": "python3"
  },
  "language_info": {
   "codemirror_mode": {
    "name": "ipython",
    "version": 3
   },
   "file_extension": ".py",
   "mimetype": "text/x-python",
   "name": "python",
   "nbconvert_exporter": "python",
   "pygments_lexer": "ipython3",
   "version": "3.9.19"
  }
 },
 "nbformat": 4,
 "nbformat_minor": 2
}
